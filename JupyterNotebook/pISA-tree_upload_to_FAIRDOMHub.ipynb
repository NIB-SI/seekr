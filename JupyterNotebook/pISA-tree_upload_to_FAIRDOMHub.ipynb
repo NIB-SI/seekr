{
 "cells": [
  {
   "cell_type": "markdown",
   "id": "27d26771",
   "metadata": {},
   "source": [
    "# pISA-tree upload to FAIRDOMHub\n",
    "\n",
    "*Petek Marko*\n",
    "\n",
    "*National Institute of Biology (NIB)*\n",
    "\n",
    "*August, 2022*\n"
   ]
  },
  {
   "cell_type": "markdown",
   "id": "9ae40ad4",
   "metadata": {},
   "source": [
    "## 1. Prior to running this notebook "
   ]
  },
  {
   "cell_type": "markdown",
   "id": "ade02bc1",
   "metadata": {},
   "source": [
    "1. Install R libraries in the following order into R environment used by jupyter:\n",
    "* [devtools](https://cran.r-project.org/web/packages/devtools/index.html)\n",
    "* [pisar](https://github.com/NIB-SI/pisar)\n",
    "* [seekr](https://github.com/NIB-SI/seekr)\n",
    "\n",
    "2. Login to [FAIRDOMHub SEEK](https://fairdomhub.org/login) using your credentials.\n",
    "\n",
    "3. Create FAIRDOMHub **_project_** to host the **_Investigation_** to be uploaded. Set the access permision for the project to ```no_access``` and select the correct license.\n",
    "\n",
    "4. In your pISA-tree **_project_** directory open the ```seekignore.txt``` in an text editor and add files or directories to be ignored. Also check if the values for the key ```Upload to FAIRDOMHub:``` is set correctly for all pISA-tree levels in the Investigation to be uploaded.\n",
    "\n",
    "5. In the **_Investigation_** directory, run ```xcheckMetadata.bat``` and inspect the report ```*.md``` file to check for errors and missing values. Errors should not be reported, otherwise upload will most probably fail.\n",
    "\n",
    "6. In the **_Investigation_** to be uploaded, create a upload **_Study_** (e.g. ```_S_UPLOAD```) and in this study create an upload **_Assay_** (e.g. ```_A_FAIRDOMHub-R```). The directory path to the upload Assay should be as follows: ```/_S_UPLOAD/_A_FAIRDOMHub-R/```"
   ]
  },
  {
   "cell_type": "markdown",
   "id": "74e9f820",
   "metadata": {},
   "source": [
    "## 2. Load required libraries"
   ]
  },
  {
   "cell_type": "markdown",
   "id": "3c9bf097",
   "metadata": {},
   "source": [
    "If you get errors here, try reinstalling the libraries and/or their dependencies (```remove.packages()```, ```install.packages(\"\", dependencies = TRUE)```, ```update.packages()```)."
   ]
  },
  {
   "cell_type": "code",
   "execution_count": null,
   "id": "6d35922a",
   "metadata": {},
   "outputs": [],
   "source": [
    "library(jsonlite)\n",
    "library(httr)\n",
    "library(pisar)\n",
    "library(seekr)"
   ]
  },
  {
   "cell_type": "markdown",
   "id": "7eaea9ae",
   "metadata": {},
   "source": [
    "## 3. Directory initialization"
   ]
  },
  {
   "cell_type": "markdown",
   "id": "05fec318",
   "metadata": {},
   "source": [
    "Set working directory to in the output directory of the FAIRDOMHub upload assay level (replace <pISA-tree_InvestigationPath> with local path to Investigation for upload):\n",
    "\n",
    "```fp = file.path('<pISA-tree_InvestigationPath>', '_S_UPLOAD', '_A_FAIRDOMHub-R', 'output')```\n",
    "\n",
    "```setwd(fp)```"
   ]
  },
  {
   "cell_type": "code",
   "execution_count": null,
   "id": "e3ba941b",
   "metadata": {},
   "outputs": [],
   "source": [
    "fp = file.path('.','_p_RNAinVAL', '_I_02_FieldTrials', '_S_UPLOAD', '_A_FAIRDOMHub-R', 'output')\n",
    "setwd(fp)"
   ]
  },
  {
   "cell_type": "markdown",
   "id": "bd70c0df",
   "metadata": {},
   "source": [
    "Store pISA-tree details in object ```pini```:"
   ]
  },
  {
   "cell_type": "markdown",
   "id": "e96c6b68",
   "metadata": {},
   "source": [
    "```?readMeta``` Read metadata file from the given directory"
   ]
  },
  {
   "cell_type": "code",
   "execution_count": null,
   "id": "226c72b5",
   "metadata": {},
   "outputs": [],
   "source": [
    "pini <- pisar::pisa()\n",
    "names(pini)\n",
    "str(pini)"
   ]
  },
  {
   "cell_type": "markdown",
   "id": "8ce01a5b",
   "metadata": {},
   "source": [
    "## 4. Get paths Investigation to be uploaded"
   ]
  },
  {
   "cell_type": "markdown",
   "id": "04ef0a03",
   "metadata": {},
   "source": [
    "Set path to ``seekignore.txt`` file which is located at the project level:"
   ]
  },
  {
   "cell_type": "code",
   "execution_count": null,
   "id": "3414c87e",
   "metadata": {},
   "outputs": [],
   "source": [
    "seekignore <- readLines(file.path(.proot, \"seekignore.txt\"))\n",
    "seekignore"
   ]
  },
  {
   "cell_type": "markdown",
   "id": "6e8e1efb",
   "metadata": {},
   "source": [
    "Get path to the Investigation to be uploaded:"
   ]
  },
  {
   "cell_type": "code",
   "execution_count": null,
   "id": "2b7302b3",
   "metadata": {},
   "outputs": [],
   "source": [
    "uploadRoot <- pini$I$root\n",
    "uploadRoot"
   ]
  },
  {
   "cell_type": "markdown",
   "id": "0b26121c",
   "metadata": {},
   "source": [
    "Prepare and export list of files to be uploaded. You can open this file in a text editor and inspect the list if it contains directories or files that you do not want to upload. If you find any you can add them to ```seekignore.txt``` and rerun this section of the notebook."
   ]
  },
  {
   "cell_type": "code",
   "execution_count": null,
   "id": "a4f0b14c",
   "metadata": {},
   "outputs": [],
   "source": [
    "forUpload <- seekr::skFilesToUpload(root = uploadRoot, skignore = seekignore)"
   ]
  },
  {
   "cell_type": "code",
   "execution_count": null,
   "id": "5fce0c05",
   "metadata": {},
   "outputs": [],
   "source": [
    "forUpload\n",
    "\n",
    "write(forUpload, file = \"uploadList.txt\")"
   ]
  },
  {
   "cell_type": "markdown",
   "id": "eeb1784e",
   "metadata": {},
   "source": [
    "Calculate upload size and get an size-decreasing ordered list of files to be uploaded. "
   ]
  },
  {
   "cell_type": "code",
   "execution_count": null,
   "id": "e627d16e",
   "metadata": {},
   "outputs": [],
   "source": [
    "cat(\"Total size for Upload:\", round(sum(file.size(paste0(c(rep(uploadRoot,length(forUpload))),\"/\",forUpload)), na.rm = TRUE)/(1024*1024), 2), \"Mb\")\n",
    "\n",
    "UploadFileSizes <- data.frame(FileName = forUpload, FileSize = (round(file.size(paste0(c(rep(uploadRoot,length(forUpload))),\"/\",forUpload))/(1024*1024),3)))\n",
    "o <- order(UploadFileSizes$FileSize, decreasing = TRUE)\n",
    "orderedUploadFileSizes <- UploadFileSizes[o, ]\n",
    "orderedUploadFileSizes"
   ]
  },
  {
   "cell_type": "markdown",
   "id": "8eea8ca6",
   "metadata": {},
   "source": [
    "## 5. Prepare FAIRDOMHub connection"
   ]
  },
  {
   "cell_type": "markdown",
   "id": "c0253620",
   "metadata": {},
   "source": [
    "Set credentials for connection to FAIRDOMHub API. The values for usr, pwd and myid below are made up. __INSERT YOUR CREDENTIALS INTO THE FOLLOWING CELL__: "
   ]
  },
  {
   "cell_type": "code",
   "execution_count": null,
   "id": "16c6e5be",
   "metadata": {},
   "outputs": [],
   "source": [
    "seekr::skReset( all=TRUE )\n",
    "seekr::skOptions()\n",
    "\n",
    "#input your own credentials here!\n",
    "seekr::skSetOption(\"url\", \"https://fairdomhub.org/\")\n",
    "seekr::skSetOption(\"usr\", \"johndoe\")\n",
    "seekr::skSetOption(\"pwd\", \"mypassword\")\n",
    "seekr::skSetOption(\"myid\", \"9999\")\n",
    "seekr::skOptions()"
   ]
  },
  {
   "cell_type": "markdown",
   "id": "c08266d9",
   "metadata": {},
   "source": [
    "Set the root directory for uploading:"
   ]
  },
  {
   "cell_type": "code",
   "execution_count": null,
   "id": "ee53617c",
   "metadata": {},
   "outputs": [],
   "source": [
    "seekr::skSetOption(\"root\", uploadRoot)\n",
    "seekr::skSetLayers(path=\".\",root=skGetOption(\"root\"))"
   ]
  },
  {
   "cell_type": "markdown",
   "id": "108b3a1c",
   "metadata": {},
   "source": [
    "Check the existence of the programme and project on FAIRDOMHub. Last three lines should output the metadata fetched from FAIRDOMHub:"
   ]
  },
  {
   "cell_type": "code",
   "execution_count": null,
   "id": "3ddece11",
   "metadata": {},
   "outputs": [],
   "source": [
    ".pname <- \"PROJECT NAME\"  # copy your FAIRDOMHub project name here!\n",
    ".prname <- \"PROGRAMME NAME\"  # copy your FAIRDOMHub mprgramme name here!\n",
    ".testing <- FALSE\n",
    "\n",
    "seekr::skFindId(\"programme\", .prname)\n",
    "seekr::skFindId(\"project\", .pname)\n",
    "print.simple.list(skOptions(\"id\"))\n",
    "\n",
    "if(seekr::skFindTitle(\"projects\", seekr::skGetOption(\"proj\"))[\"title\"]!=.pname) {cat(\"Wrong project name or id. Create project\", layers[1],\"\\n\")} else {cat(\"Project exists:\", .pname, \"\\n\")}"
   ]
  },
  {
   "cell_type": "markdown",
   "id": "df8c8834",
   "metadata": {},
   "source": [
    "Set log file (append=TRUE will not rewrite the file if connection is interrupted and you have to run the upload again):"
   ]
  },
  {
   "cell_type": "code",
   "execution_count": null,
   "id": "cd8e9973",
   "metadata": {},
   "outputs": [],
   "source": [
    "seekr::skLog(\"Upload_I_02_FieldTrials\", file=\"FAIRDOM.log\", append=TRUE)"
   ]
  },
  {
   "cell_type": "markdown",
   "id": "227032e5",
   "metadata": {},
   "source": [
    "## 6. Upload"
   ]
  },
  {
   "cell_type": "markdown",
   "id": "815fd08c",
   "metadata": {},
   "source": [
    "Create neccessary levels and upload files sequentially as listed in the forUpload list:"
   ]
  },
  {
   "cell_type": "code",
   "execution_count": null,
   "id": "beb734d1",
   "metadata": {},
   "outputs": [],
   "source": [
    "seekr::skUploadFiles(forUpload[1:length(forUpload)], test=FALSE, append=FALSE, verbose=TRUE)"
   ]
  },
  {
   "cell_type": "code",
   "execution_count": null,
   "id": "9877f0a0",
   "metadata": {},
   "outputs": [],
   "source": [
    "devtools::session_info()"
   ]
  },
  {
   "cell_type": "markdown",
   "id": "08dc00d7",
   "metadata": {},
   "source": [
    "### Troubleshooting"
   ]
  },
  {
   "cell_type": "markdown",
   "id": "97adde4f",
   "metadata": {},
   "source": [
    "If for any reason the upload is interrupted, check in the log file and on FAIRDOMHub which file was the last uploaded. Then you can continue the upload by running the command as follows (__SET lastUploadedPlusOne__):\n",
    "\n",
    "#### Example\n",
    "Last file succesfully uploaded was 32 in the forUpload list"
   ]
  },
  {
   "cell_type": "code",
   "execution_count": null,
   "id": "d3b53f25",
   "metadata": {},
   "outputs": [],
   "source": [
    "# IF UPLOAD WAS interrupted, change FALSE to TRUE, input correct number for lastUploadedPlusOne and RUN\n",
    "if (FALSE)\n",
    "{\n",
    "lastUploadedPlusOne <- 33 # Input correct number\n",
    "skUploadFiles(forUpload[lastUploadedPlusOne:length(forUpload)], test=FALSE, append=TRUE, verbose=TRUE)\n",
    "}"
   ]
  }
 ],
 "metadata": {
  "ipub": {
   "titlepage": {
    "author": "Marko Petek",
    "institution": "NIB",
    "subtitle": "seekr",
    "title": "pISA-tree upload to FAIRDOMHub"
   }
  },
  "kernelspec": {
   "display_name": "R",
   "language": "R",
   "name": "ir"
  },
  "language_info": {
   "codemirror_mode": "r",
   "file_extension": ".r",
   "mimetype": "text/x-r-source",
   "name": "R",
   "pygments_lexer": "r",
   "version": "4.1.3"
  }
 },
 "nbformat": 4,
 "nbformat_minor": 5
}
